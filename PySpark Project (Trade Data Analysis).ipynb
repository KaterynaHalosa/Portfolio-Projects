{
 "cells": [
  {
   "cell_type": "markdown",
   "id": "8816aaa3-36ae-4e8e-8286-7ad744b3ef13",
   "metadata": {},
   "source": [
    "Wide World Importers Data Analytics with PySpark"
   ]
  },
  {
   "cell_type": "markdown",
   "id": "cb24b6fa-a8e4-45f3-ba16-93ea8fd96e4e",
   "metadata": {},
   "source": [
    "DESCRIPTION:"
   ]
  },
  {
   "cell_type": "markdown",
   "id": "d92c4a71-b232-4d43-ac9a-0ab0276f0b45",
   "metadata": {},
   "source": [
    "Wide World Importers (WWI) is a goods importer and distributor operating from the San Francisco.\n",
    "\n",
    "As a wholesaler, WWI's customers are mostly companies who resell to individuals. WWI sells to retail customers across the United States including specialty stores, supermarkets, computing stores, tourist attraction shops, and some individuals. WWI also sells to other wholesalers via a network of agents who promote the products on WWI's behalf. While all of WWI's customers are currently based in the United States, the company is intending to push for expansion into other countries/regions.\n",
    "\n",
    "WWI buys goods from suppliers including novelty and toy manufacturers, and other novelty wholesalers. They stock the goods in their WWI warehouse and reorder from suppliers as needed to fulfill customer orders. They also purchase large volumes of packaging materials, and sell these in smaller quantities as a convenience for the customers."
   ]
  },
  {
   "cell_type": "markdown",
   "id": "9ce0cc29-00c0-446b-ba88-7c70c899989c",
   "metadata": {},
   "source": [
    "SOURCE:"
   ]
  },
  {
   "cell_type": "markdown",
   "id": "c44fb211-4bfe-47ea-945d-76ab0ddade3a",
   "metadata": {},
   "source": [
    "WWI dataset that is used in this project was downloaded from DataCamp source."
   ]
  },
  {
   "cell_type": "markdown",
   "id": "b8c2d42e-cf66-4c4f-b5ce-e30681bb07c2",
   "metadata": {},
   "source": [
    "IMPORTING LIBRARIES AND STARTING SPARK SESSION:"
   ]
  },
  {
   "cell_type": "code",
   "execution_count": 2,
   "id": "13b720ae-8c06-438e-97f6-16ccdff71176",
   "metadata": {
    "tags": []
   },
   "outputs": [
    {
     "name": "stdout",
     "output_type": "stream",
     "text": [
      "Requirement already satisfied: pyspark in /usr/local/spark-3.3.2-bin-hadoop3/python (3.3.2)\n",
      "Requirement already satisfied: py4j==0.10.9.5 in /opt/conda/lib/python3.10/site-packages (from pyspark) (0.10.9.5)\n"
     ]
    }
   ],
   "source": [
    "!pip install pyspark\n",
    "from pyspark.sql import SparkSession\n",
    "from pyspark.sql.functions import *\n",
    "\n",
    "import os\n",
    "os.environ[\"PYARROW_IGNORE_TIMEZONE\"] = \"1\"\n",
    "\n",
    "from pyspark.sql.functions import col,isnan,when,count\n",
    "from pyspark.sql.types import IntegerType\n",
    "\n",
    "spark = SparkSession.builder.appName(\"WWI_Analysis\").getOrCreate()"
   ]
  },
  {
   "cell_type": "markdown",
   "id": "2c1e6e3e-891d-4b4f-baeb-32c654e415fe",
   "metadata": {},
   "source": [
    "KOALAS LIBRARY:"
   ]
  },
  {
   "cell_type": "markdown",
   "id": "ec7265a0-1f2b-4d4e-93f5-1e13819e8d64",
   "metadata": {},
   "source": [
    "Koalas supports Apache Spark 3.1 and below as it is officially included to PySpark in Apache Spark 3.2 and above.\n",
    "Spark version 3.3.2 works here, so in this project PySpark will be used directly."
   ]
  },
  {
   "cell_type": "code",
   "execution_count": 4,
   "id": "ea7bd678-d3fe-4ee2-9825-62c3b1790a7c",
   "metadata": {
    "tags": []
   },
   "outputs": [
    {
     "data": {
      "text/plain": [
       "'3.3.2'"
      ]
     },
     "execution_count": 4,
     "metadata": {},
     "output_type": "execute_result"
    }
   ],
   "source": [
    "spark.version"
   ]
  },
  {
   "cell_type": "markdown",
   "id": "c630466e-8944-4654-b799-daaf3d6252ee",
   "metadata": {},
   "source": [
    "READING DATA FILES:"
   ]
  },
  {
   "cell_type": "markdown",
   "id": "c791cf58-4367-41a6-9e0f-a8214367d5a3",
   "metadata": {},
   "source": [
    "FACT INTERNET SALE TABLE\n",
    "\n",
    "The main table in the WWI tabel hirarhy, contains important information about the actual sales of products. It has 8 keys that link this table with others. All data types are correct."
   ]
  },
  {
   "cell_type": "code",
   "execution_count": 6,
   "id": "35a84e2a-3a3a-4c76-8b3c-ed842a8310f6",
   "metadata": {
    "tags": []
   },
   "outputs": [
    {
     "name": "stdout",
     "output_type": "stream",
     "text": [
      "root\n",
      " |-- ProductKey: integer (nullable = true)\n",
      " |-- OrderDateKey: integer (nullable = true)\n",
      " |-- DueDateKey: integer (nullable = true)\n",
      " |-- ShipDateKey: integer (nullable = true)\n",
      " |-- CustomerKey: integer (nullable = true)\n",
      " |-- PromotionKey: integer (nullable = true)\n",
      " |-- CurrencyKey: integer (nullable = true)\n",
      " |-- SalesTerritoryKey: integer (nullable = true)\n",
      " |-- SalesOrderNumber: string (nullable = true)\n",
      " |-- SalesOrderLineNumber: integer (nullable = true)\n",
      " |-- RevisionNumber: integer (nullable = true)\n",
      " |-- OrderQuantity: integer (nullable = true)\n",
      " |-- UnitPrice: double (nullable = true)\n",
      " |-- ExtendedAmount: double (nullable = true)\n",
      " |-- UnitPriceDiscountPct: integer (nullable = true)\n",
      " |-- DiscountAmount: integer (nullable = true)\n",
      " |-- ProductStandardCost: double (nullable = true)\n",
      " |-- TotalProductCost: double (nullable = true)\n",
      " |-- SalesAmount: double (nullable = true)\n",
      " |-- TaxAmt: double (nullable = true)\n",
      " |-- Freight: double (nullable = true)\n",
      " |-- CarrierTrackingNumber: string (nullable = true)\n",
      " |-- CustomerPONumber: string (nullable = true)\n",
      " |-- OrderDate: timestamp (nullable = true)\n",
      " |-- DueDate: timestamp (nullable = true)\n",
      " |-- ShipDate: timestamp (nullable = true)\n",
      "\n"
     ]
    }
   ],
   "source": [
    "fact_internet_sale = spark.read.option('header', 'true').csv('Tables_WWI/FactInternetSale.csv', inferSchema=True)\n",
    "fact_internet_sale.printSchema()"
   ]
  },
  {
   "cell_type": "code",
   "execution_count": 7,
   "id": "24f592f7-e5c2-4eaf-8604-b00533ba3698",
   "metadata": {
    "tags": []
   },
   "outputs": [
    {
     "name": "stdout",
     "output_type": "stream",
     "text": [
      "fact_internet_sale DataFrame Rows count : 60398\n"
     ]
    }
   ],
   "source": [
    "rows = fact_internet_sale.count()\n",
    "print(f\"fact_internet_sale DataFrame Rows count : {rows}\")"
   ]
  },
  {
   "cell_type": "markdown",
   "id": "c5bef137-e0d2-46d6-ae97-a2b397d3eb00",
   "metadata": {},
   "source": [
    "Extract the required data from the Fact Internet Sale table using the spark.sql file, changing some of the names to make them clearer:"
   ]
  },
  {
   "cell_type": "code",
   "execution_count": 80,
   "id": "c769fa31-40d1-4220-942d-40a43990957a",
   "metadata": {},
   "outputs": [
    {
     "name": "stdout",
     "output_type": "stream",
     "text": [
      "+----------+------------+-----------------+---------+----------------+--------+--------+------------+\n",
      "|ProductKey|OrderDateKey|SalesTerritoryKey|UnitsSold|TotalProductCost| Revenue|   Taxes|DeliveryCost|\n",
      "+----------+------------+-----------------+---------+----------------+--------+--------+------------+\n",
      "|       310|    20110701|                6|        1|       2171.2942| 3578.27|286.2616|     89.4568|\n",
      "|       346|    20110701|                7|        1|       1912.1544| 3399.99|271.9992|     84.9998|\n",
      "|       346|    20110701|                1|        1|       1912.1544| 3399.99|271.9992|     84.9998|\n",
      "|       336|    20110701|                4|        1|        413.1463|699.0982| 55.9279|     17.4775|\n",
      "|       346|    20110701|                9|        1|       1912.1544| 3399.99|271.9992|     84.9998|\n",
      "+----------+------------+-----------------+---------+----------------+--------+--------+------------+\n",
      "only showing top 5 rows\n",
      "\n"
     ]
    }
   ],
   "source": [
    "fact_internet_sale.createOrReplaceTempView('FactInternetSale')\n",
    "fact_int_sale_sql = spark.sql('SELECT ProductKey, OrderDateKey, SalesTerritoryKey, OrderQuantity AS UnitsSold, TotalProductCost, SalesAmount AS Revenue, TaxAmt AS Taxes, Freight AS DeliveryCost FROM FactInternetSale')\n",
    "fact_int_sale_sql.show(5)"
   ]
  },
  {
   "cell_type": "markdown",
   "id": "9c9a44e8-a940-4d16-8c0a-bec330ce1d61",
   "metadata": {},
   "source": [
    "Creating \"Profit\" column: "
   ]
  },
  {
   "cell_type": "code",
   "execution_count": 89,
   "id": "3abd02a8-8d59-48dc-a2ec-99236ca8f8e6",
   "metadata": {
    "tags": []
   },
   "outputs": [
    {
     "name": "stdout",
     "output_type": "stream",
     "text": [
      "+----------+------------+-----------------+---------+----------------+-------+--------+------------+--------------+------------------+\n",
      "|ProductKey|OrderDateKey|SalesTerritoryKey|UnitsSold|TotalProductCost|Revenue|   Taxes|DeliveryCost|RevenueRevenue|            Profit|\n",
      "+----------+------------+-----------------+---------+----------------+-------+--------+------------+--------------+------------------+\n",
      "|       310|    20110701|                6|        1|       2171.2942|3578.27|286.2616|     89.4568|          3578|1120.7142000000003|\n",
      "|       346|    20110701|                7|        1|       1912.1544|3399.99|271.9992|     84.9998|          3399|1215.8364000000001|\n",
      "|       346|    20110701|                1|        1|       1912.1544|3399.99|271.9992|     84.9998|          3399|1215.8364000000001|\n",
      "+----------+------------+-----------------+---------+----------------+-------+--------+------------+--------------+------------------+\n",
      "only showing top 3 rows\n",
      "\n"
     ]
    }
   ],
   "source": [
    "profit_sale_sql = fact_int_sale_sql.withColumn(\"Profit\", fact_int_sale_sql.Revenue - (fact_int_sale_sql.TotalProductCost + fact_int_sale_sql.Taxes))\n",
    "profit_sale_sql.show(3)"
   ]
  },
  {
   "cell_type": "markdown",
   "id": "781dda59-ed4b-4e3d-bcc0-6470c246f5f5",
   "metadata": {},
   "source": [
    "DATE TABLE\n",
    "\n",
    "Contains day, month and year data linked to the FactSale table, which explains the time and date of the sale.\n",
    "Includes two Key columns, a large number of duplicate columns for the names of days of the week and months in three languages: English, French and Spanish. All the data types are correct."
   ]
  },
  {
   "cell_type": "code",
   "execution_count": 10,
   "id": "60bd8083-18fb-49dc-bec4-caad27d2336a",
   "metadata": {
    "tags": []
   },
   "outputs": [
    {
     "name": "stdout",
     "output_type": "stream",
     "text": [
      "root\n",
      " |-- DateKey: integer (nullable = true)\n",
      " |-- FullDateAlternateKey: timestamp (nullable = true)\n",
      " |-- DayNumberOfWeek: integer (nullable = true)\n",
      " |-- EnglishDayNameOfWeek: string (nullable = true)\n",
      " |-- SpanishDayNameOfWeek: string (nullable = true)\n",
      " |-- FrenchDayNameOfWeek: string (nullable = true)\n",
      " |-- DayNumberOfMonth: integer (nullable = true)\n",
      " |-- DayNumberOfYear: integer (nullable = true)\n",
      " |-- WeekNumberOfYear: integer (nullable = true)\n",
      " |-- EnglishMonthName: string (nullable = true)\n",
      " |-- SpanishMonthName: string (nullable = true)\n",
      " |-- FrenchMonthName: string (nullable = true)\n",
      " |-- MonthNumberOfYear: integer (nullable = true)\n",
      " |-- CalendarQuarter: integer (nullable = true)\n",
      " |-- CalendarYear: integer (nullable = true)\n",
      " |-- CalendarSemester: integer (nullable = true)\n",
      " |-- FiscalQuarter: integer (nullable = true)\n",
      " |-- FiscalYear: integer (nullable = true)\n",
      " |-- FiscalSemester: integer (nullable = true)\n",
      "\n"
     ]
    }
   ],
   "source": [
    "date = spark.read.option('header', 'true').csv('Tables_WWI/DimDate.csv', inferSchema=True)\n",
    "date.printSchema()"
   ]
  },
  {
   "cell_type": "markdown",
   "id": "8f8a8568-3b11-41ab-a175-525ba1d02bba",
   "metadata": {},
   "source": [
    "The total number of days recorded: 4017"
   ]
  },
  {
   "cell_type": "code",
   "execution_count": 11,
   "id": "1fdd347b-9568-4820-9e8a-347c99711fa1",
   "metadata": {
    "tags": []
   },
   "outputs": [
    {
     "name": "stdout",
     "output_type": "stream",
     "text": [
      "date DataFrame Rows count : 4017\n"
     ]
    }
   ],
   "source": [
    "rows = date.count()\n",
    "print(f\"date DataFrame Rows count : {rows}\")"
   ]
  },
  {
   "cell_type": "markdown",
   "id": "bd58f46f-ca96-413f-bf5f-021e1b92170e",
   "metadata": {},
   "source": [
    "Extract the required data from the Date table using spark.sql:"
   ]
  },
  {
   "cell_type": "code",
   "execution_count": 12,
   "id": "0da3ea09-3e5e-42c0-b355-1a02e1700c46",
   "metadata": {
    "tags": []
   },
   "outputs": [
    {
     "name": "stdout",
     "output_type": "stream",
     "text": [
      "+--------+--------------------+---------------+----------------+------------+\n",
      "| DateKey|FullDateAlternateKey|DayNumberOfYear|EnglishMonthName|CalendarYear|\n",
      "+--------+--------------------+---------------+----------------+------------+\n",
      "|20050101| 2005-01-01 00:00:00|              1|         January|        2005|\n",
      "|20050102| 2005-01-02 00:00:00|              2|         January|        2005|\n",
      "|20050103| 2005-01-03 00:00:00|              3|         January|        2005|\n",
      "|20050104| 2005-01-04 00:00:00|              4|         January|        2005|\n",
      "|20050105| 2005-01-05 00:00:00|              5|         January|        2005|\n",
      "+--------+--------------------+---------------+----------------+------------+\n",
      "only showing top 5 rows\n",
      "\n"
     ]
    }
   ],
   "source": [
    "date.createOrReplaceTempView('Date')\n",
    "date_sql = spark.sql('SELECT DateKey, FullDateAlternateKey, DayNumberOfYear, EnglishMonthName, CalendarYear FROM date')\n",
    "date_sql.show(5)"
   ]
  },
  {
   "cell_type": "markdown",
   "id": "39c87182-fb45-4b61-bc0a-7382dee7a142",
   "metadata": {},
   "source": [
    "Below we can see that the data record is from 2005-01-01 to 2015-12-31:"
   ]
  },
  {
   "cell_type": "code",
   "execution_count": 13,
   "id": "4d871499-8d7d-42b1-83bd-fdcf92dfa1a7",
   "metadata": {
    "tags": []
   },
   "outputs": [
    {
     "name": "stdout",
     "output_type": "stream",
     "text": [
      "+-------------------+-------------------+\n",
      "|          FirstDate|           LastDate|\n",
      "+-------------------+-------------------+\n",
      "|2005-01-01 00:00:00|2015-12-31 00:00:00|\n",
      "+-------------------+-------------------+\n",
      "\n"
     ]
    }
   ],
   "source": [
    "date_sql.select(min(date_sql.FullDateAlternateKey).alias(\"FirstDate\"), \n",
    "          max(date_sql.FullDateAlternateKey).alias(\"LastDate\")\n",
    "    ).show()"
   ]
  },
  {
   "cell_type": "markdown",
   "id": "ae55b694-9074-4659-82a4-8367781f08f7",
   "metadata": {},
   "source": [
    "SALES TERRITORY TABLE\n",
    "\n",
    "Also a small table containing information on the places where products are sold. It has two keys and contains 10 different countries.\n",
    "All data types are correct."
   ]
  },
  {
   "cell_type": "code",
   "execution_count": 14,
   "id": "f4cd5539-89aa-4cec-9dc0-d4e5504c2385",
   "metadata": {
    "tags": []
   },
   "outputs": [
    {
     "name": "stdout",
     "output_type": "stream",
     "text": [
      "root\n",
      " |-- SalesTerritoryKey: integer (nullable = true)\n",
      " |-- SalesTerritoryAlternateKey: integer (nullable = true)\n",
      " |-- SalesTerritoryRegion: string (nullable = true)\n",
      " |-- SalesTerritoryCountry: string (nullable = true)\n",
      " |-- SalesTerritoryGroup: string (nullable = true)\n",
      "\n"
     ]
    }
   ],
   "source": [
    "sales_territory = spark.read.option('header', 'true').csv('Tables_WWI/DimSalesTerritory.csv', inferSchema=True)\n",
    "sales_territory.printSchema()"
   ]
  },
  {
   "cell_type": "code",
   "execution_count": 16,
   "id": "7fd34b00-c930-4311-81a3-fb71a032fb2c",
   "metadata": {
    "tags": []
   },
   "outputs": [
    {
     "name": "stdout",
     "output_type": "stream",
     "text": [
      "sales_territory DataFrame Rows count : 11\n"
     ]
    }
   ],
   "source": [
    "rows = sales_territory.count()\n",
    "print(f\"sales_territory DataFrame Rows count : {rows}\")"
   ]
  },
  {
   "cell_type": "code",
   "execution_count": 17,
   "id": "71b58e47-9d61-425d-b9db-877dd6bfbd77",
   "metadata": {
    "tags": []
   },
   "outputs": [
    {
     "name": "stdout",
     "output_type": "stream",
     "text": [
      "+-----------------+--------------+--------------+\n",
      "|SalesTerritoryKey|       Country|        Region|\n",
      "+-----------------+--------------+--------------+\n",
      "|                1|           USA|     Northwest|\n",
      "|                2|           USA|     Northeast|\n",
      "|                3|           USA|       Central|\n",
      "|                4|           USA|     Southwest|\n",
      "|                5|           USA|     Southeast|\n",
      "|                6|        Canada|        Canada|\n",
      "|                7|        France|        France|\n",
      "|                8|       Germany|       Germany|\n",
      "|                9|     Australia|     Australia|\n",
      "|               10|United Kingdom|United Kingdom|\n",
      "|               11|            NA|            NA|\n",
      "+-----------------+--------------+--------------+\n",
      "\n"
     ]
    }
   ],
   "source": [
    "sales_territory.createOrReplaceTempView('SalesTerritory')\n",
    "sales_territory_sql = spark.sql('SELECT SalesTerritoryKey, SalesTerritoryCountry AS Country, SalesTerritoryRegion AS Region FROM SalesTerritory')\n",
    "sales_territory_sql.show()"
   ]
  },
  {
   "cell_type": "markdown",
   "id": "0685fcd8-5f48-46d8-978f-a7b9af4a0d0c",
   "metadata": {},
   "source": [
    "PRODUCT TABLE\n",
    "\n",
    "Describes the type, class, style and other parameters of the product.\n",
    "Includes three Key columns, a large number of duplicate columns for ProductName in three languages: English, French and Spanish. Description dublicates in English, French, Chinese, Arabic, Hebrew, Thai, German, Japanese and Turkish.\n",
    "All the data types are correct."
   ]
  },
  {
   "cell_type": "code",
   "execution_count": 3,
   "id": "a3380cf7-2dff-4a18-991e-93fb9bfdc8bd",
   "metadata": {
    "tags": []
   },
   "outputs": [
    {
     "name": "stdout",
     "output_type": "stream",
     "text": [
      "root\n",
      " |-- ProductKey: integer (nullable = true)\n",
      " |-- ProductAlternateKey: string (nullable = true)\n",
      " |-- ProductSubcategoryKey: string (nullable = true)\n",
      " |-- WeightUnitMeasureCode: string (nullable = true)\n",
      " |-- SizeUnitMeasureCode: string (nullable = true)\n",
      " |-- EnglishProductName: string (nullable = true)\n",
      " |-- SpanishProductName: string (nullable = true)\n",
      " |-- FrenchProductName: string (nullable = true)\n",
      " |-- StandardCost: string (nullable = true)\n",
      " |-- FinishedGoodsFlag: integer (nullable = true)\n",
      " |-- Color: string (nullable = true)\n",
      " |-- SafetyStockLevel: integer (nullable = true)\n",
      " |-- ReorderPoint: integer (nullable = true)\n",
      " |-- ListPrice: string (nullable = true)\n",
      " |-- Size: string (nullable = true)\n",
      " |-- SizeRange: string (nullable = true)\n",
      " |-- Weight: string (nullable = true)\n",
      " |-- DaysToManufacture: integer (nullable = true)\n",
      " |-- ProductLine: string (nullable = true)\n",
      " |-- DealerPrice: string (nullable = true)\n",
      " |-- Class: string (nullable = true)\n",
      " |-- Style: string (nullable = true)\n",
      " |-- ModelName: string (nullable = true)\n",
      " |-- LargePhoto: string (nullable = true)\n",
      " |-- EnglishDescription: string (nullable = true)\n",
      " |-- FrenchDescription: string (nullable = true)\n",
      " |-- ChineseDescription: string (nullable = true)\n",
      " |-- ArabicDescription: string (nullable = true)\n",
      " |-- HebrewDescription: string (nullable = true)\n",
      " |-- ThaiDescription: string (nullable = true)\n",
      " |-- GermanDescription: string (nullable = true)\n",
      " |-- JapaneseDescription: string (nullable = true)\n",
      " |-- TurkishDescription: string (nullable = true)\n",
      " |-- StartDate: string (nullable = true)\n",
      " |-- EndDate: string (nullable = true)\n",
      " |-- Status: string (nullable = true)\n",
      "\n"
     ]
    }
   ],
   "source": [
    "product = spark.read.option('header', 'true').csv('Tables_WWI/DimProduct.csv', inferSchema=True)\n",
    "product.printSchema()"
   ]
  },
  {
   "cell_type": "code",
   "execution_count": 20,
   "id": "c6f740d7-0052-4715-b23c-5bd38c9c81f9",
   "metadata": {
    "tags": []
   },
   "outputs": [
    {
     "name": "stdout",
     "output_type": "stream",
     "text": [
      "product DataFrame Rows count : 606\n"
     ]
    }
   ],
   "source": [
    "rows = product.count()\n",
    "print(f\"product DataFrame Rows count : {rows}\")"
   ]
  },
  {
   "cell_type": "markdown",
   "id": "cfe87f1f-fa7d-4112-b52b-5e4a9723d6b7",
   "metadata": {},
   "source": [
    "Extract the required data from the Product table using spark.sql:"
   ]
  },
  {
   "cell_type": "code",
   "execution_count": 4,
   "id": "8ae6f255-773f-484f-a8a6-113f4136ddd1",
   "metadata": {
    "tags": []
   },
   "outputs": [
    {
     "name": "stdout",
     "output_type": "stream",
     "text": [
      "+----------+---------------------+--------------------+\n",
      "|ProductKey|ProductSubcategoryKey|         ProductName|\n",
      "+----------+---------------------+--------------------+\n",
      "|         1|                 NULL|     Adjustable Race|\n",
      "|         2|                 NULL|        Bearing Ball|\n",
      "|         3|                 NULL|     BB Ball Bearing|\n",
      "|         4|                 NULL|Headset Ball Bear...|\n",
      "|         5|                 NULL|               Blade|\n",
      "+----------+---------------------+--------------------+\n",
      "only showing top 5 rows\n",
      "\n"
     ]
    }
   ],
   "source": [
    "product.createOrReplaceTempView('Product')\n",
    "product_sql = spark.sql('SELECT ProductKey, ProductSubcategoryKey, EnglishProductName AS ProductName FROM Product')\n",
    "product_sql.show(5)"
   ]
  },
  {
   "cell_type": "markdown",
   "id": "476e201a-6042-44a9-b3ca-080a1bee87aa",
   "metadata": {},
   "source": [
    "ProductSubcategoryKey values need to be converted from string to integer. This makes it possible to create a relation between the product and product_subcategory tables by the ProductSubcategoryKey. "
   ]
  },
  {
   "cell_type": "code",
   "execution_count": 5,
   "id": "823ba387-26f7-43a2-a36a-88ed183e7531",
   "metadata": {
    "tags": []
   },
   "outputs": [],
   "source": [
    "product_sql = product_sql.withColumn(\"ProductSubcategoryKey\", product_sql[\"ProductSubcategoryKey\"].cast(IntegerType()))"
   ]
  },
  {
   "cell_type": "code",
   "execution_count": 6,
   "id": "9c1fc8b3-ff2a-46ad-a296-afa6022f157c",
   "metadata": {
    "tags": []
   },
   "outputs": [
    {
     "name": "stdout",
     "output_type": "stream",
     "text": [
      "root\n",
      " |-- ProductKey: integer (nullable = true)\n",
      " |-- ProductSubcategoryKey: integer (nullable = true)\n",
      " |-- ProductName: string (nullable = true)\n",
      "\n"
     ]
    }
   ],
   "source": [
    "product_sql.printSchema()"
   ]
  },
  {
   "cell_type": "markdown",
   "id": "66dbf41e-74b0-4dfa-ad2f-7ffc639936fa",
   "metadata": {},
   "source": [
    "Checking for NULL values of ProductSubcategoryKey column."
   ]
  },
  {
   "cell_type": "code",
   "execution_count": 23,
   "id": "ed83ee2b-f5b2-4234-9b1b-a24e02c47a20",
   "metadata": {
    "tags": []
   },
   "outputs": [
    {
     "name": "stdout",
     "output_type": "stream",
     "text": [
      "+-----------------+\n",
      "|count(ProductKey)|\n",
      "+-----------------+\n",
      "|              209|\n",
      "+-----------------+\n",
      "\n"
     ]
    }
   ],
   "source": [
    "spark.sql('SELECT COUNT(ProductKey) FROM Product WHERE ProductSubcategoryKey IS NULL').show()\n"
   ]
  },
  {
   "cell_type": "markdown",
   "id": "52ab7375-d2af-4a79-a52e-ba02e53f6874",
   "metadata": {},
   "source": [
    "PRODUCT SUBCATEGORY TABLE\n",
    "\n",
    "A small table containing information about a sub-category of a product. Has two Keys and contains 37 different types of sub-categories.\n",
    "All the data types are correct."
   ]
  },
  {
   "cell_type": "code",
   "execution_count": 24,
   "id": "3d9fffe5-f399-40da-b66f-48337d47344b",
   "metadata": {
    "tags": []
   },
   "outputs": [
    {
     "name": "stdout",
     "output_type": "stream",
     "text": [
      "root\n",
      " |-- ProductSubcategoryKey: integer (nullable = true)\n",
      " |-- ProductSubcategoryAlternateKey: integer (nullable = true)\n",
      " |-- EnglishProductSubcategoryName: string (nullable = true)\n",
      " |-- SpanishProductSubcategoryName: string (nullable = true)\n",
      " |-- FrenchProductSubcategoryName: string (nullable = true)\n",
      " |-- ProductCategoryKey: integer (nullable = true)\n",
      "\n"
     ]
    }
   ],
   "source": [
    "product_subcategory = spark.read.option('header', 'true').csv('Tables_WWI/DimProductSubcategory.csv', inferSchema=True)\n",
    "product_subcategory.printSchema()"
   ]
  },
  {
   "cell_type": "code",
   "execution_count": 26,
   "id": "1afc3d94-2a22-40a6-ab1e-26de7171c147",
   "metadata": {
    "tags": []
   },
   "outputs": [
    {
     "name": "stdout",
     "output_type": "stream",
     "text": [
      "product_subcategory DataFrame Rows count : 37\n"
     ]
    }
   ],
   "source": [
    "rows = product_subcategory.count()\n",
    "print(f\"product_subcategory DataFrame Rows count : {rows}\")"
   ]
  },
  {
   "cell_type": "code",
   "execution_count": 27,
   "id": "9783cd1d-80fe-4a10-a3b3-d1002cf48645",
   "metadata": {
    "tags": []
   },
   "outputs": [
    {
     "name": "stdout",
     "output_type": "stream",
     "text": [
      "+---------------------+------------------+---------------+\n",
      "|ProductSubcategoryKey|ProductCategoryKey|    SubCategory|\n",
      "+---------------------+------------------+---------------+\n",
      "|                    1|                 1| Mountain Bikes|\n",
      "|                    2|                 1|     Road Bikes|\n",
      "|                    3|                 1|  Touring Bikes|\n",
      "|                    4|                 2|     Handlebars|\n",
      "|                    5|                 2|Bottom Brackets|\n",
      "+---------------------+------------------+---------------+\n",
      "only showing top 5 rows\n",
      "\n"
     ]
    }
   ],
   "source": [
    "product_subcategory.createOrReplaceTempView('ProductSubcategory')\n",
    "product_subcategory_sql = spark.sql('SELECT ProductSubcategoryKey, ProductCategoryKey, EnglishProductSubcategoryName AS SubCategory FROM ProductSubcategory')\n",
    "product_subcategory_sql.show(5)"
   ]
  },
  {
   "cell_type": "markdown",
   "id": "6bb1e413-579c-4f34-bed7-32e1c19631e4",
   "metadata": {},
   "source": [
    "Checking for unique SubCategory values:"
   ]
  },
  {
   "cell_type": "code",
   "execution_count": 29,
   "id": "e3018226-1c39-4816-b7e7-89a379c6ef67",
   "metadata": {
    "tags": []
   },
   "outputs": [
    {
     "name": "stdout",
     "output_type": "stream",
     "text": [
      "+---------------------------+\n",
      "|count(DISTINCT SubCategory)|\n",
      "+---------------------------+\n",
      "|                         37|\n",
      "+---------------------------+\n",
      "\n"
     ]
    }
   ],
   "source": [
    "dist = product_subcategory_sql.select(countDistinct(\"SubCategory\"))\n",
    "dist.show()"
   ]
  },
  {
   "cell_type": "markdown",
   "id": "8bc1d909-28b7-4153-89b0-9a8a915c7aa6",
   "metadata": {},
   "source": [
    "PRODUCT CATEGORY TABLE\n",
    "\n",
    "Similar to product subcategory table. Contains important information about the main categories of products. It has two keys and all data types are correct."
   ]
  },
  {
   "cell_type": "code",
   "execution_count": 30,
   "id": "58ca5327-b2d3-4d01-aa6e-19421c5d2a21",
   "metadata": {
    "tags": []
   },
   "outputs": [
    {
     "name": "stdout",
     "output_type": "stream",
     "text": [
      "root\n",
      " |-- ProductCategoryKey: integer (nullable = true)\n",
      " |-- ProductCategoryAlternateKey: integer (nullable = true)\n",
      " |-- EnglishProductCategoryName: string (nullable = true)\n",
      " |-- SpanishProductCategoryName: string (nullable = true)\n",
      " |-- FrenchProductCategoryName: string (nullable = true)\n",
      "\n"
     ]
    }
   ],
   "source": [
    "product_category = spark.read.option('header', 'true').csv('Tables_WWI/ProductCategory.csv', inferSchema=True)\n",
    "product_category.printSchema()"
   ]
  },
  {
   "cell_type": "markdown",
   "id": "ef2b2927-1ad9-4683-b057-817c4319bd1e",
   "metadata": {},
   "source": [
    "Below we see that there are 4 unique types of product categories:"
   ]
  },
  {
   "cell_type": "code",
   "execution_count": 31,
   "id": "b195783b-49ab-4cdb-bfb1-df5b40a7c8f3",
   "metadata": {
    "tags": []
   },
   "outputs": [
    {
     "name": "stdout",
     "output_type": "stream",
     "text": [
      "+------------------+-----------+\n",
      "|ProductCategoryKey|   Category|\n",
      "+------------------+-----------+\n",
      "|                 1|      Bikes|\n",
      "|                 2| Components|\n",
      "|                 3|   Clothing|\n",
      "|                 4|Accessories|\n",
      "+------------------+-----------+\n",
      "\n"
     ]
    }
   ],
   "source": [
    "product_category.createOrReplaceTempView('ProductCategory')\n",
    "product_category_sql = spark.sql('SELECT ProductCategoryKey, EnglishProductCategoryName AS Category FROM ProductCategory')\n",
    "product_category_sql.show()"
   ]
  },
  {
   "cell_type": "markdown",
   "id": "462a6027-b0cf-4f0e-af73-377bb7061053",
   "metadata": {},
   "source": [
    "JOINING TABLES"
   ]
  },
  {
   "cell_type": "markdown",
   "id": "f1bdd93b-86ab-4724-b78c-b4e33e5fb4a5",
   "metadata": {},
   "source": [
    "Firstly, it was decided to combine all the tables relating to product features, such as product_subcategory_sql, product_category_sql and finally product_sql. "
   ]
  },
  {
   "cell_type": "code",
   "execution_count": 32,
   "id": "174628bb-79cb-4509-bd5d-5c087ffce374",
   "metadata": {
    "tags": []
   },
   "outputs": [
    {
     "name": "stdout",
     "output_type": "stream",
     "text": [
      "+------------------+---------------------+--------------+--------+\n",
      "|ProductCategoryKey|ProductSubcategoryKey|   SubCategory|Category|\n",
      "+------------------+---------------------+--------------+--------+\n",
      "|                 1|                    1|Mountain Bikes|   Bikes|\n",
      "|                 1|                    2|    Road Bikes|   Bikes|\n",
      "|                 1|                    3| Touring Bikes|   Bikes|\n",
      "+------------------+---------------------+--------------+--------+\n",
      "only showing top 3 rows\n",
      "\n"
     ]
    }
   ],
   "source": [
    "category_table = product_subcategory_sql.join(product_category_sql, ['ProductCategoryKey'], 'inner')\n",
    "category_table.show(3)"
   ]
  },
  {
   "cell_type": "code",
   "execution_count": 33,
   "id": "6f158935-6202-4cd6-959a-d163072e1609",
   "metadata": {
    "tags": []
   },
   "outputs": [
    {
     "name": "stdout",
     "output_type": "stream",
     "text": [
      "+---------------------+----------+--------------------+------------------+--------------+--------+\n",
      "|ProductSubcategoryKey|ProductKey|         ProductName|ProductCategoryKey|   SubCategory|Category|\n",
      "+---------------------+----------+--------------------+------------------+--------------+--------+\n",
      "|                    1|       600|Mountain-500 Blac...|                 1|Mountain Bikes|   Bikes|\n",
      "|                    1|       599|Mountain-500 Blac...|                 1|Mountain Bikes|   Bikes|\n",
      "|                    1|       598|Mountain-500 Blac...|                 1|Mountain Bikes|   Bikes|\n",
      "+---------------------+----------+--------------------+------------------+--------------+--------+\n",
      "only showing top 3 rows\n",
      "\n"
     ]
    }
   ],
   "source": [
    "product_table = product_sql.join(category_table, ['ProductSubcategoryKey'], 'inner')\n",
    "product_table.show(3)"
   ]
  },
  {
   "cell_type": "markdown",
   "id": "9912a85c-26a0-4f3f-8a53-fa9aec3a9cae",
   "metadata": {},
   "source": [
    "Afterwards profit_sale_sql, date_sql, sales_territory_sql and product_table were joined."
   ]
  },
  {
   "cell_type": "code",
   "execution_count": 86,
   "id": "7bba2cdf-5091-4f68-84e7-28a86417f2b2",
   "metadata": {
    "tags": []
   },
   "outputs": [
    {
     "name": "stdout",
     "output_type": "stream",
     "text": [
      "+----------+-----------------+------------+---------+----------------+-------+------+------------+--------------+------------------+--------+--------------------+---------------+----------------+------------+---------+---------+---------------------+--------------------+------------------+-----------+--------+\n",
      "|ProductKey|SalesTerritoryKey|OrderDateKey|UnitsSold|TotalProductCost|Revenue| Taxes|DeliveryCost|RevenueRevenue|            Profit| DateKey|FullDateAlternateKey|DayNumberOfYear|EnglishMonthName|CalendarYear|  Country|   Region|ProductSubcategoryKey|         ProductName|ProductCategoryKey|SubCategory|Category|\n",
      "+----------+-----------------+------------+---------+----------------+-------+------+------------+--------------+------------------+--------+--------------------+---------------+----------------+------------+---------+---------+---------------------+--------------------+------------------+-----------+--------+\n",
      "|       463|                4|    20130703|        1|          9.1593|  24.49|1.9592|      0.6123|            24|13.371499999999997|20130703| 2013-07-03 00:00:00|            184|            July|        2013|      USA|Southwest|                   20|Half-Finger Glove...|                 3|     Gloves|Clothing|\n",
      "|       471|                4|    20130704|        1|          23.749|   63.5|  5.08|      1.5875|            63|            34.671|20130704| 2013-07-04 00:00:00|            185|            July|        2013|      USA|Southwest|                   25|     Classic Vest, S|                 3|      Vests|Clothing|\n",
      "|       463|                9|    20130705|        1|          9.1593|  24.49|1.9592|      0.6123|            24|13.371499999999997|20130705| 2013-07-05 00:00:00|            186|            July|        2013|Australia|Australia|                   20|Half-Finger Glove...|                 3|     Gloves|Clothing|\n",
      "+----------+-----------------+------------+---------+----------------+-------+------+------------+--------------+------------------+--------+--------------------+---------------+----------------+------------+---------+---------+---------------------+--------------------+------------------+-----------+--------+\n",
      "only showing top 3 rows\n",
      "\n"
     ]
    }
   ],
   "source": [
    "analytical_table = profit_sale_sql.join(date_sql).where(profit_sale_sql['OrderDateKey'] == date_sql['DateKey']).join(sales_territory_sql, ['SalesTerritoryKey']).join(product_table, ['ProductKey'])\n",
    "analytical_table.show(3)"
   ]
  },
  {
   "cell_type": "code",
   "execution_count": 87,
   "id": "f18db839-f2d7-41d9-9c9e-c5188f3cde0d",
   "metadata": {
    "tags": []
   },
   "outputs": [
    {
     "name": "stdout",
     "output_type": "stream",
     "text": [
      "root\n",
      " |-- ProductKey: integer (nullable = true)\n",
      " |-- SalesTerritoryKey: integer (nullable = true)\n",
      " |-- OrderDateKey: integer (nullable = true)\n",
      " |-- UnitsSold: integer (nullable = true)\n",
      " |-- TotalProductCost: double (nullable = true)\n",
      " |-- Revenue: double (nullable = true)\n",
      " |-- Taxes: double (nullable = true)\n",
      " |-- DeliveryCost: double (nullable = true)\n",
      " |-- RevenueRevenue: integer (nullable = true)\n",
      " |-- Profit: double (nullable = true)\n",
      " |-- DateKey: integer (nullable = true)\n",
      " |-- FullDateAlternateKey: timestamp (nullable = true)\n",
      " |-- DayNumberOfYear: integer (nullable = true)\n",
      " |-- EnglishMonthName: string (nullable = true)\n",
      " |-- CalendarYear: integer (nullable = true)\n",
      " |-- Country: string (nullable = true)\n",
      " |-- Region: string (nullable = true)\n",
      " |-- ProductSubcategoryKey: integer (nullable = true)\n",
      " |-- ProductName: string (nullable = true)\n",
      " |-- ProductCategoryKey: integer (nullable = true)\n",
      " |-- SubCategory: string (nullable = true)\n",
      " |-- Category: string (nullable = true)\n",
      "\n"
     ]
    }
   ],
   "source": [
    "analytical_table.printSchema()"
   ]
  },
  {
   "cell_type": "markdown",
   "id": "d1b290a9-2f71-492b-8287-dff27aace169",
   "metadata": {},
   "source": [
    "The new table is an analytical base table (ABT) that is used for data analysis and visualisation, it has the same number of rows as in main table fact_internet_sale:"
   ]
  },
  {
   "cell_type": "code",
   "execution_count": 43,
   "id": "bdd044cf-c9c0-4134-8463-a654ad4c0e96",
   "metadata": {
    "tags": []
   },
   "outputs": [
    {
     "name": "stdout",
     "output_type": "stream",
     "text": [
      "analytical_table DataFrame Rows count : 60398\n"
     ]
    }
   ],
   "source": [
    "rows = analytical_table.count()\n",
    "print(f\"analytical_table DataFrame Rows count : {rows}\")"
   ]
  },
  {
   "cell_type": "markdown",
   "id": "0aa304bb-1162-4a0a-899d-f3f817a69c4a",
   "metadata": {},
   "source": [
    "SUM OF UnitsSold, Revenue AND Profit:"
   ]
  },
  {
   "cell_type": "code",
   "execution_count": 97,
   "id": "00144f20-fa9a-48f9-98a7-066707460d71",
   "metadata": {
    "tags": []
   },
   "outputs": [
    {
     "name": "stdout",
     "output_type": "stream",
     "text": [
      "+--------------+-------------------+---------------------+\n",
      "|sum(UnitsSold)|       sum(Revenue)|round(sum(Profit), 2)|\n",
      "+--------------+-------------------+---------------------+\n",
      "|         60398|2.935867722065187E7|           9732189.41|\n",
      "+--------------+-------------------+---------------------+\n",
      "\n"
     ]
    }
   ],
   "source": [
    "analytical_table.createOrReplaceTempView('AnalyticalTable')\n",
    "spark.sql('SELECT SUM(UnitsSold), SUM(Revenue), ROUND(SUM(Profit), 2) FROM AnalyticalTable ORDER BY SUM(UnitsSold) DESC, SUM(Revenue) DESC, SUM(Profit) DESC').show()"
   ]
  },
  {
   "cell_type": "markdown",
   "id": "c573ac0a-6ec4-4dbb-8593-d184aca79bf6",
   "metadata": {},
   "source": [
    "UnitsSold AND Profit BY COUNTRY:"
   ]
  },
  {
   "cell_type": "code",
   "execution_count": 72,
   "id": "7c9f5de8-94a2-4010-ad8e-509e3698078c",
   "metadata": {
    "tags": []
   },
   "outputs": [
    {
     "name": "stdout",
     "output_type": "stream",
     "text": [
      "+--------------+----------------+---------------------+\n",
      "|       Country|count(UnitsSold)|round(sum(Profit), 2)|\n",
      "+--------------+----------------+---------------------+\n",
      "|           USA|           21344|           3149797.63|\n",
      "|     Australia|           13345|           2960975.01|\n",
      "|        Canada|            7620|            671693.91|\n",
      "|United Kingdom|            6906|            1119153.8|\n",
      "|       Germany|            5625|            955825.77|\n",
      "|        France|            5558|             874743.3|\n",
      "+--------------+----------------+---------------------+\n",
      "\n"
     ]
    }
   ],
   "source": [
    "spark.sql('SELECT Country, COUNT(UnitsSold), ROUND(SUM(Profit), 2) FROM AnalyticalTable GROUP BY Country ORDER BY COUNT(UnitsSold) DESC, SUM(Profit) DESC').show()"
   ]
  },
  {
   "cell_type": "code",
   "execution_count": null,
   "id": "6c56462f-cc41-42ba-a6e4-90ef27ce6926",
   "metadata": {},
   "outputs": [],
   "source": [
    "PROFIT BY Category:"
   ]
  },
  {
   "cell_type": "code",
   "execution_count": 71,
   "id": "eb4fc770-7a8b-4c81-a97c-c0317a49b8ca",
   "metadata": {
    "tags": []
   },
   "outputs": [
    {
     "name": "stdout",
     "output_type": "stream",
     "text": [
      "+-----------+---------------------+\n",
      "|   Category|round(sum(Profit), 2)|\n",
      "+-----------+---------------------+\n",
      "|      Bikes|           9240344.88|\n",
      "|Accessories|            382613.77|\n",
      "|   Clothing|            109230.77|\n",
      "+-----------+---------------------+\n",
      "\n"
     ]
    }
   ],
   "source": [
    "spark.sql('SELECT Category, ROUND(SUM(Profit), 2) FROM AnalyticalTable GROUP BY Category ORDER BY SUM(Profit) DESC').show()"
   ]
  },
  {
   "cell_type": "code",
   "execution_count": null,
   "id": "3617be79-52ff-4567-a559-72920d331197",
   "metadata": {},
   "outputs": [],
   "source": [
    "PROFIT BY SubCategory:"
   ]
  },
  {
   "cell_type": "code",
   "execution_count": 69,
   "id": "33a2f610-3b12-4884-85e2-1110feade332",
   "metadata": {
    "tags": []
   },
   "outputs": [
    {
     "name": "stdout",
     "output_type": "stream",
     "text": [
      "+-----------------+---------------------+\n",
      "|      SubCategory|round(sum(Profit), 2)|\n",
      "+-----------------+---------------------+\n",
      "|       Road Bikes|           4375652.96|\n",
      "|   Mountain Bikes|            3717403.3|\n",
      "|    Touring Bikes|           1147288.61|\n",
      "|  Tires and Tubes|            134058.41|\n",
      "|          Helmets|            123032.98|\n",
      "|           Shorts|             38940.58|\n",
      "|Bottles and Cages|             31011.49|\n",
      "|          Jerseys|              25942.6|\n",
      "|          Fenders|             25454.33|\n",
      "|  Hydration Packs|             22007.96|\n",
      "|      Bike Stands|             21616.69|\n",
      "|       Bike Racks|             21490.56|\n",
      "|            Vests|              19485.1|\n",
      "|           Gloves|             19121.24|\n",
      "|         Cleaners|              3941.36|\n",
      "|             Caps|              2953.22|\n",
      "|            Socks|              2788.03|\n",
      "+-----------------+---------------------+\n",
      "\n"
     ]
    }
   ],
   "source": [
    "spark.sql('SELECT SubCategory, ROUND(SUM(Profit), 2) FROM AnalyticalTable GROUP BY SubCategory ORDER BY SUM(Profit) DESC').show()"
   ]
  },
  {
   "cell_type": "markdown",
   "id": "d5a756a0-4d37-44fe-97ec-bb283e3c9549",
   "metadata": {},
   "source": [
    "SUM OF TotalProductCost, Revenue, Profit BY CalendarYear:"
   ]
  },
  {
   "cell_type": "code",
   "execution_count": 65,
   "id": "507719ba-2279-48c2-abd6-1a9ce0682330",
   "metadata": {
    "tags": []
   },
   "outputs": [
    {
     "name": "stdout",
     "output_type": "stream",
     "text": [
      "+------------+---------------------+------------------+------------------+\n",
      "|CalendarYear|sum(TotalProductCost)|      sum(Revenue)|       sum(Profit)|\n",
      "+------------+---------------------+------------------+------------------+\n",
      "|        2014|    5721205.239699934|  9770899.74000497|3268022.5210993364|\n",
      "|        2013|     5718327.17489979|  9791060.29770275|3289448.2729995847|\n",
      "|        2012|    3883493.374599957|  6530343.52639983| 2124422.648200007|\n",
      "|        2011|   1954767.7864999673|3266373.6566000194|1050295.9726000114|\n",
      "+------------+---------------------+------------------+------------------+\n",
      "\n"
     ]
    }
   ],
   "source": [
    "spark.sql('SELECT CalendarYear, SUM(TotalProductCost), SUM(Revenue), SUM(Profit) FROM AnalyticalTable GROUP BY CalendarYear ORDER BY CalendarYear DESC').show()"
   ]
  },
  {
   "cell_type": "markdown",
   "id": "024f8bfb-82b1-453f-86ab-56da35b7c5a9",
   "metadata": {},
   "source": [
    "SAVE CSV FILE:"
   ]
  },
  {
   "cell_type": "code",
   "execution_count": 25,
   "id": "8593c8d7-bc4f-4169-a9d6-ab1b6d3c8b62",
   "metadata": {
    "tags": []
   },
   "outputs": [],
   "source": [
    "analytic_table.coalesce(1).write.csv('Tables_WWI/AnalyticTable.csv', mode='overwrite', header=True)"
   ]
  },
  {
   "cell_type": "markdown",
   "id": "e0ac28c8-bfbe-4da7-85ff-3ef6a7f34c3d",
   "metadata": {},
   "source": [
    "CONCLUSIONS:"
   ]
  },
  {
   "cell_type": "markdown",
   "id": "f1c34a0c-2659-40d8-9824-a1edf12d66a5",
   "metadata": {},
   "source": [
    "- The Wide World Importers Dataset takes 20.4 MB and consist of 6 tabs. \n",
    "- It was discovered, that the main table is FactSales.csv, that stores facts related to a business operations, it is located at the center of a schema and is supplemented by the dimension tables: DimCustomer.csv, DimEmployee.xlxs, DimStockItem.csv, DimDate.csv and DimCity.csv.\n",
    "- Data architecture has been studied: the dataset structure is a Snowflake - a multi-dimensional data model that is similar to a star schema, but where dimension tables are broken down into subdimensions? as it is in all the tables relating to product features (product_subcategory_sql, product_category_sql and product_sql).\n",
    "- Each WWI table has between 2-8 Keys, which ensures linking between the tables, appropriate use and storage of the data.\n",
    "- Was discovered that 60 000 units were sold, total sum of revenue is 29.36M dollars and total profit is 9.73M.\n",
    "- The biggest profit is in 2014 year - 3268022.5 despite the fact that there is data only from January to start of July. When it comes to category the biggest profit is from Bikes - 95%.\n",
    "- The data visualisation is made with PowerBI and presented as a pdf file."
   ]
  }
 ],
 "metadata": {
  "kernelspec": {
   "display_name": "Python 3 (ipykernel)",
   "language": "python",
   "name": "python3"
  },
  "language_info": {
   "codemirror_mode": {
    "name": "ipython",
    "version": 3
   },
   "file_extension": ".py",
   "mimetype": "text/x-python",
   "name": "python",
   "nbconvert_exporter": "python",
   "pygments_lexer": "ipython3",
   "version": "3.10.10"
  }
 },
 "nbformat": 4,
 "nbformat_minor": 5
}
